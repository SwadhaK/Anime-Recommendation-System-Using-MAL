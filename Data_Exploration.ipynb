{
 "cells": [
  {
   "cell_type": "markdown",
   "id": "c2aa914f-7620-450e-ba3e-5d1293433ffa",
   "metadata": {},
   "source": [
    "##  Import Libraries"
   ]
  },
  {
   "cell_type": "code",
   "execution_count": 1,
   "id": "cb6d48ae-ea08-4141-adeb-d6862a6c75a6",
   "metadata": {},
   "outputs": [],
   "source": [
    "# Import libaries\n",
    "import os\n",
    "import math\n",
    "import pandas as pd\n",
    "import numpy as np\n",
    "import matplotlib.pyplot as plt\n",
    "import seaborn as sns\n",
    "\n",
    "# Ignore warning\n",
    "import warnings\n",
    "warnings.filterwarnings('ignore')"
   ]
  },
  {
   "cell_type": "markdown",
   "id": "716d25bc-a003-4b0f-ada4-653f011d3503",
   "metadata": {},
   "source": [
    "## Import Datasets"
   ]
  },
  {
   "cell_type": "markdown",
   "id": "db96575e-73cf-472a-90fa-038a7ab42f11",
   "metadata": {},
   "source": [
    "We’re taking out new users to make a dataset that feels like a real-world recommender system. We'll still keep the new users in a separate file so we can test how well the system handles both regular and brand-new users."
   ]
  },
  {
   "cell_type": "markdown",
   "id": "00b1c2cf-966c-4bba-bb02-b71ee96881a8",
   "metadata": {},
   "source": [
    "#### Anime data"
   ]
  },
  {
   "cell_type": "code",
   "execution_count": 2,
   "id": "8e0a973c-145d-4588-bd61-f601e45c2752",
   "metadata": {},
   "outputs": [
    {
     "data": {
      "text/html": [
       "<div>\n",
       "<style scoped>\n",
       "    .dataframe tbody tr th:only-of-type {\n",
       "        vertical-align: middle;\n",
       "    }\n",
       "\n",
       "    .dataframe tbody tr th {\n",
       "        vertical-align: top;\n",
       "    }\n",
       "\n",
       "    .dataframe thead th {\n",
       "        text-align: right;\n",
       "    }\n",
       "</style>\n",
       "<table border=\"1\" class=\"dataframe\">\n",
       "  <thead>\n",
       "    <tr style=\"text-align: right;\">\n",
       "      <th></th>\n",
       "      <th>id</th>\n",
       "      <th>title</th>\n",
       "      <th>start_date</th>\n",
       "      <th>end_date</th>\n",
       "      <th>synopsis</th>\n",
       "      <th>score</th>\n",
       "      <th>rank</th>\n",
       "      <th>popularity</th>\n",
       "      <th>num_list_users</th>\n",
       "      <th>num_scoring_users</th>\n",
       "      <th>media_type</th>\n",
       "      <th>status</th>\n",
       "      <th>genres</th>\n",
       "      <th>num_episodes</th>\n",
       "      <th>start_season</th>\n",
       "      <th>broadcast_day</th>\n",
       "      <th>broadcast_time</th>\n",
       "      <th>source</th>\n",
       "      <th>rating</th>\n",
       "      <th>studios</th>\n",
       "    </tr>\n",
       "  </thead>\n",
       "  <tbody>\n",
       "    <tr>\n",
       "      <th>0</th>\n",
       "      <td>52991</td>\n",
       "      <td>Sousou no Frieren</td>\n",
       "      <td>2023-09-29</td>\n",
       "      <td>2024-03-22</td>\n",
       "      <td>During their decade-long quest to defeat the D...</td>\n",
       "      <td>9.31</td>\n",
       "      <td>1.0</td>\n",
       "      <td>159</td>\n",
       "      <td>1044444</td>\n",
       "      <td>609185</td>\n",
       "      <td>tv</td>\n",
       "      <td>finished_airing</td>\n",
       "      <td>Adventure,Drama,Fantasy,Shounen</td>\n",
       "      <td>28</td>\n",
       "      <td>fall</td>\n",
       "      <td>friday</td>\n",
       "      <td>23:00</td>\n",
       "      <td>manga</td>\n",
       "      <td>pg_13</td>\n",
       "      <td>Madhouse</td>\n",
       "    </tr>\n",
       "    <tr>\n",
       "      <th>1</th>\n",
       "      <td>5114</td>\n",
       "      <td>Fullmetal Alchemist: Brotherhood</td>\n",
       "      <td>2009-04-05</td>\n",
       "      <td>2010-07-04</td>\n",
       "      <td>After a horrific alchemy experiment goes wrong...</td>\n",
       "      <td>9.10</td>\n",
       "      <td>2.0</td>\n",
       "      <td>3</td>\n",
       "      <td>3486975</td>\n",
       "      <td>2198350</td>\n",
       "      <td>tv</td>\n",
       "      <td>finished_airing</td>\n",
       "      <td>Action,Adventure,Drama,Fantasy,Military,Shounen</td>\n",
       "      <td>64</td>\n",
       "      <td>spring</td>\n",
       "      <td>sunday</td>\n",
       "      <td>17:00</td>\n",
       "      <td>manga</td>\n",
       "      <td>r</td>\n",
       "      <td>Bones</td>\n",
       "    </tr>\n",
       "    <tr>\n",
       "      <th>2</th>\n",
       "      <td>9253</td>\n",
       "      <td>Steins;Gate</td>\n",
       "      <td>2011-04-06</td>\n",
       "      <td>2011-09-14</td>\n",
       "      <td>Eccentric scientist Rintarou Okabe has a never...</td>\n",
       "      <td>9.07</td>\n",
       "      <td>3.0</td>\n",
       "      <td>14</td>\n",
       "      <td>2671014</td>\n",
       "      <td>1451230</td>\n",
       "      <td>tv</td>\n",
       "      <td>finished_airing</td>\n",
       "      <td>Drama,Psychological,Sci-Fi,Suspense,Time Travel</td>\n",
       "      <td>24</td>\n",
       "      <td>spring</td>\n",
       "      <td>wednesday</td>\n",
       "      <td>02:05</td>\n",
       "      <td>visual_novel</td>\n",
       "      <td>pg_13</td>\n",
       "      <td>White Fox</td>\n",
       "    </tr>\n",
       "    <tr>\n",
       "      <th>3</th>\n",
       "      <td>38524</td>\n",
       "      <td>Shingeki no Kyojin Season 3 Part 2</td>\n",
       "      <td>2019-04-29</td>\n",
       "      <td>2019-07-01</td>\n",
       "      <td>Seeking to restore humanity's diminishing hope...</td>\n",
       "      <td>9.05</td>\n",
       "      <td>4.0</td>\n",
       "      <td>21</td>\n",
       "      <td>2411646</td>\n",
       "      <td>1673369</td>\n",
       "      <td>tv</td>\n",
       "      <td>finished_airing</td>\n",
       "      <td>Action,Drama,Gore,Military,Shounen,Survival,Su...</td>\n",
       "      <td>10</td>\n",
       "      <td>spring</td>\n",
       "      <td>monday</td>\n",
       "      <td>00:10</td>\n",
       "      <td>manga</td>\n",
       "      <td>r</td>\n",
       "      <td>Wit Studio</td>\n",
       "    </tr>\n",
       "    <tr>\n",
       "      <th>4</th>\n",
       "      <td>60022</td>\n",
       "      <td>One Piece Fan Letter</td>\n",
       "      <td>2024-10-20</td>\n",
       "      <td>2024-10-20</td>\n",
       "      <td>Although the golden age of piracy is about to ...</td>\n",
       "      <td>9.05</td>\n",
       "      <td>5.0</td>\n",
       "      <td>2322</td>\n",
       "      <td>93088</td>\n",
       "      <td>70227</td>\n",
       "      <td>tv_special</td>\n",
       "      <td>finished_airing</td>\n",
       "      <td>Action,Adventure,Fantasy,Shounen</td>\n",
       "      <td>1</td>\n",
       "      <td>fall</td>\n",
       "      <td>NaN</td>\n",
       "      <td>NaN</td>\n",
       "      <td>light_novel</td>\n",
       "      <td>pg_13</td>\n",
       "      <td>Toei Animation</td>\n",
       "    </tr>\n",
       "  </tbody>\n",
       "</table>\n",
       "</div>"
      ],
      "text/plain": [
       "      id                               title  start_date    end_date  \\\n",
       "0  52991                   Sousou no Frieren  2023-09-29  2024-03-22   \n",
       "1   5114    Fullmetal Alchemist: Brotherhood  2009-04-05  2010-07-04   \n",
       "2   9253                         Steins;Gate  2011-04-06  2011-09-14   \n",
       "3  38524  Shingeki no Kyojin Season 3 Part 2  2019-04-29  2019-07-01   \n",
       "4  60022                One Piece Fan Letter  2024-10-20  2024-10-20   \n",
       "\n",
       "                                            synopsis  score  rank  popularity  \\\n",
       "0  During their decade-long quest to defeat the D...   9.31   1.0         159   \n",
       "1  After a horrific alchemy experiment goes wrong...   9.10   2.0           3   \n",
       "2  Eccentric scientist Rintarou Okabe has a never...   9.07   3.0          14   \n",
       "3  Seeking to restore humanity's diminishing hope...   9.05   4.0          21   \n",
       "4  Although the golden age of piracy is about to ...   9.05   5.0        2322   \n",
       "\n",
       "   num_list_users  num_scoring_users  media_type           status  \\\n",
       "0         1044444             609185          tv  finished_airing   \n",
       "1         3486975            2198350          tv  finished_airing   \n",
       "2         2671014            1451230          tv  finished_airing   \n",
       "3         2411646            1673369          tv  finished_airing   \n",
       "4           93088              70227  tv_special  finished_airing   \n",
       "\n",
       "                                              genres  num_episodes  \\\n",
       "0                    Adventure,Drama,Fantasy,Shounen            28   \n",
       "1    Action,Adventure,Drama,Fantasy,Military,Shounen            64   \n",
       "2    Drama,Psychological,Sci-Fi,Suspense,Time Travel            24   \n",
       "3  Action,Drama,Gore,Military,Shounen,Survival,Su...            10   \n",
       "4                   Action,Adventure,Fantasy,Shounen             1   \n",
       "\n",
       "  start_season broadcast_day broadcast_time        source rating  \\\n",
       "0         fall        friday          23:00         manga  pg_13   \n",
       "1       spring        sunday          17:00         manga      r   \n",
       "2       spring     wednesday          02:05  visual_novel  pg_13   \n",
       "3       spring        monday          00:10         manga      r   \n",
       "4         fall           NaN            NaN   light_novel  pg_13   \n",
       "\n",
       "          studios  \n",
       "0        Madhouse  \n",
       "1           Bones  \n",
       "2       White Fox  \n",
       "3      Wit Studio  \n",
       "4  Toei Animation  "
      ]
     },
     "execution_count": 2,
     "metadata": {},
     "output_type": "execute_result"
    }
   ],
   "source": [
    "# read anime dataset\n",
    "anime_df = pd.read_csv('./data/anime.csv')\n",
    "anime_df.head(5)"
   ]
  },
  {
   "cell_type": "code",
   "execution_count": 3,
   "id": "b3020db1-6908-4162-81cd-63d0b373ce4d",
   "metadata": {},
   "outputs": [
    {
     "name": "stdout",
     "output_type": "stream",
     "text": [
      "Removing 126 anime with 'recap' in the title.\n"
     ]
    }
   ],
   "source": [
    "# Cleaning anime dataset\n",
    "# Remove if 'score' is 0 or NaN\n",
    "anime_df = anime_df[anime_df['score'].notnull() & (anime_df['score'] != 0)]\n",
    "\n",
    "# Remove if 'rank' is NaN or 0\n",
    "anime_df = anime_df[anime_df['rank'].notnull() & (anime_df['rank'] != 0)]\n",
    "\n",
    "# Remove if synopsis is NaN\n",
    "anime_df = anime_df[anime_df['synopsis'].notnull() & (anime_df['rank'] != 0)]\n",
    "\n",
    "# Remove if media_type is 'cm' or 'music' (case-insensitive, handles missing)\n",
    "anime_df = anime_df[~anime_df['media_type'].str.lower().isin(['cm', 'music'])]\n",
    "\n",
    "# Remove if status is 'not_yet_aired' (case-insensitive, handles missing)\n",
    "anime_df = anime_df[~anime_df['status'].str.lower().eq('not_yet_aired')]\n",
    "\n",
    "# Remove \"Recap\" animes\n",
    "# Find all anime IDs where the title contains 'recap' (case-insensitive)\n",
    "recap_mask = anime_df['title'].str.lower().str.contains('recap')\n",
    "recap_anime_ids = anime_df.loc[recap_mask, 'id']\n",
    "\n",
    "print(f\"Removing {len(recap_anime_ids)} anime with 'recap' in the title.\")\n",
    "\n",
    "anime_df = anime_df[~anime_df['id'].isin(recap_anime_ids)]\n",
    "\n",
    "# Reset index (optional)\n",
    "anime_df = anime_df.reset_index(drop=True)"
   ]
  },
  {
   "cell_type": "code",
   "execution_count": 4,
   "id": "65fab1be-e3a3-445b-9805-1555c3d2ea83",
   "metadata": {},
   "outputs": [],
   "source": [
    "# If you have any fillna or cleaning, do that first\n",
    "anime_df.fillna({\"genres\": \"\", \"studios\": \"\", \"media_type\": \"\", \"source\": \"\",\n",
    "              \"start_season\": \"\", \"rating\": \"\", \"broadcast_day\": \"\", \"synopsis\": \"\"}, inplace=True)\n",
    "\n",
    "# Create the combined metadata feature\n",
    "anime_df['meta'] = (\n",
    "    anime_df['genres'] + ' ' +\n",
    "    anime_df['studios'] + ' ' +\n",
    "    anime_df['media_type'] + ' ' +\n",
    "    anime_df['source'] + ' ' +\n",
    "    anime_df['start_season'] + ' ' +\n",
    "    anime_df['rating'] + ' ' +\n",
    "    anime_df['broadcast_day']\n",
    ")\n",
    "\n",
    "anime_df['ep_bucket'] = pd.cut(anime_df['num_episodes'], bins=[0,12,24,100,9999], labels=['short','1-cour','long','long-running'])\n",
    "anime_df['pop_bucket'] = pd.qcut(anime_df['popularity'], q=3, labels=['low','mid','high'])\n",
    "anime_df['meta'] += ' ' + anime_df['ep_bucket'].astype(str) + ' ' + anime_df['pop_bucket'].astype(str)"
   ]
  },
  {
   "cell_type": "markdown",
   "id": "8d317003-be9a-4fbe-89da-99b5b48f8935",
   "metadata": {},
   "source": [
    "#### User data"
   ]
  },
  {
   "cell_type": "code",
   "execution_count": 5,
   "id": "ff12501f-59f8-4e15-9426-a84f77dcfe4d",
   "metadata": {},
   "outputs": [
    {
     "data": {
      "text/html": [
       "<div>\n",
       "<style scoped>\n",
       "    .dataframe tbody tr th:only-of-type {\n",
       "        vertical-align: middle;\n",
       "    }\n",
       "\n",
       "    .dataframe tbody tr th {\n",
       "        vertical-align: top;\n",
       "    }\n",
       "\n",
       "    .dataframe thead th {\n",
       "        text-align: right;\n",
       "    }\n",
       "</style>\n",
       "<table border=\"1\" class=\"dataframe\">\n",
       "  <thead>\n",
       "    <tr style=\"text-align: right;\">\n",
       "      <th></th>\n",
       "      <th>user_id</th>\n",
       "      <th>anime_id</th>\n",
       "      <th>score</th>\n",
       "      <th>status</th>\n",
       "      <th>num_episodes_watched</th>\n",
       "      <th>updated_at</th>\n",
       "      <th>start_date</th>\n",
       "      <th>finish_date</th>\n",
       "    </tr>\n",
       "  </thead>\n",
       "  <tbody>\n",
       "    <tr>\n",
       "      <th>0</th>\n",
       "      <td>0</td>\n",
       "      <td>58600</td>\n",
       "      <td>0</td>\n",
       "      <td>watching</td>\n",
       "      <td>9</td>\n",
       "      <td>2025-03-07 11:35:25+00:00</td>\n",
       "      <td>2025-01-06</td>\n",
       "      <td>NaN</td>\n",
       "    </tr>\n",
       "    <tr>\n",
       "      <th>1</th>\n",
       "      <td>0</td>\n",
       "      <td>22789</td>\n",
       "      <td>10</td>\n",
       "      <td>completed</td>\n",
       "      <td>12</td>\n",
       "      <td>2024-12-17 05:13:44+00:00</td>\n",
       "      <td>2024-10-22</td>\n",
       "      <td>2024-10-23</td>\n",
       "    </tr>\n",
       "    <tr>\n",
       "      <th>2</th>\n",
       "      <td>0</td>\n",
       "      <td>20787</td>\n",
       "      <td>0</td>\n",
       "      <td>completed</td>\n",
       "      <td>13</td>\n",
       "      <td>2025-02-22 13:58:28+00:00</td>\n",
       "      <td>2025-02-21</td>\n",
       "      <td>2025-02-22</td>\n",
       "    </tr>\n",
       "    <tr>\n",
       "      <th>3</th>\n",
       "      <td>0</td>\n",
       "      <td>52215</td>\n",
       "      <td>0</td>\n",
       "      <td>watching</td>\n",
       "      <td>23</td>\n",
       "      <td>2025-03-03 00:55:37+00:00</td>\n",
       "      <td>2024-10-06</td>\n",
       "      <td>NaN</td>\n",
       "    </tr>\n",
       "    <tr>\n",
       "      <th>4</th>\n",
       "      <td>0</td>\n",
       "      <td>57362</td>\n",
       "      <td>0</td>\n",
       "      <td>completed</td>\n",
       "      <td>12</td>\n",
       "      <td>2024-12-24 12:36:39+00:00</td>\n",
       "      <td>2024-10-13</td>\n",
       "      <td>2024-12-24</td>\n",
       "    </tr>\n",
       "  </tbody>\n",
       "</table>\n",
       "</div>"
      ],
      "text/plain": [
       "   user_id  anime_id  score     status  num_episodes_watched  \\\n",
       "0        0     58600      0   watching                     9   \n",
       "1        0     22789     10  completed                    12   \n",
       "2        0     20787      0  completed                    13   \n",
       "3        0     52215      0   watching                    23   \n",
       "4        0     57362      0  completed                    12   \n",
       "\n",
       "                 updated_at  start_date finish_date  \n",
       "0 2025-03-07 11:35:25+00:00  2025-01-06         NaN  \n",
       "1 2024-12-17 05:13:44+00:00  2024-10-22  2024-10-23  \n",
       "2 2025-02-22 13:58:28+00:00  2025-02-21  2025-02-22  \n",
       "3 2025-03-03 00:55:37+00:00  2024-10-06         NaN  \n",
       "4 2024-12-24 12:36:39+00:00  2024-10-13  2024-12-24  "
      ]
     },
     "execution_count": 5,
     "metadata": {},
     "output_type": "execute_result"
    }
   ],
   "source": [
    "# read user's anime list dataset\n",
    "user_rating = pd.read_csv('./data/user_ratings.csv', parse_dates=['updated_at'])\n",
    "user_rating.head(5)"
   ]
  },
  {
   "cell_type": "markdown",
   "id": "b488bd4f-00fc-401b-8d98-ebc341e011fc",
   "metadata": {},
   "source": [
    "New Users Dataset: This dataset is purposely made up of only new users to test how each recommender handles cold-start situations. It uses data from Kaggle"
   ]
  },
  {
   "cell_type": "code",
   "execution_count": 6,
   "id": "8117d1a2-f61a-4252-85f4-715645607383",
   "metadata": {},
   "outputs": [],
   "source": [
    "# read new user rating\n",
    "new_user_rating = pd.read_csv('./data/rating_complete.csv')"
   ]
  },
  {
   "cell_type": "code",
   "execution_count": 7,
   "id": "f27cfc45-7fa5-4be7-b5e1-65c29ba711a9",
   "metadata": {},
   "outputs": [],
   "source": [
    "# keeping column name consistent\n",
    "new_user_rating = new_user_rating.rename(columns={'rating':'score'})"
   ]
  },
  {
   "cell_type": "code",
   "execution_count": 8,
   "id": "c853db72-b244-4e1b-a038-c8050ce06100",
   "metadata": {},
   "outputs": [
    {
     "data": {
      "text/plain": [
       "user_id     310059\n",
       "anime_id     16872\n",
       "score           10\n",
       "dtype: int64"
      ]
     },
     "execution_count": 8,
     "metadata": {},
     "output_type": "execute_result"
    }
   ],
   "source": [
    "# number of unique users in new user rating list\n",
    "new_user_rating.nunique()"
   ]
  },
  {
   "cell_type": "code",
   "execution_count": 9,
   "id": "3aa2cd3e-3e68-4a20-ba7b-694eb67d678e",
   "metadata": {},
   "outputs": [],
   "source": [
    "# Remove anime for which user rated score=0\n",
    "user_rating = user_rating[user_rating['score'] != 0]"
   ]
  },
  {
   "cell_type": "markdown",
   "id": "e193c250-006c-4228-82f4-d2510c40858a",
   "metadata": {},
   "source": [
    "The New Users Dataset will match the Standard Dataset in size to ensure a fair comparison. In the New Users Dataset, we will take 50% of the users as new users."
   ]
  },
  {
   "cell_type": "code",
   "execution_count": 10,
   "id": "aab4d275-902d-4a19-b0f8-112fc5564e9e",
   "metadata": {},
   "outputs": [],
   "source": [
    "# Then filter user_rating_df to keep only anime still in anime_df:\n",
    "user_rating = user_rating[user_rating['anime_id'].isin(anime_df['id'])].reset_index(drop=True)\n",
    "\n",
    "new_user_rating = new_user_rating[new_user_rating['anime_id'].isin(anime_df['id'])].reset_index(drop=True)"
   ]
  },
  {
   "cell_type": "code",
   "execution_count": 11,
   "id": "99094038-4c38-46c5-939f-24c35aaad5bb",
   "metadata": {},
   "outputs": [
    {
     "name": "stdout",
     "output_type": "stream",
     "text": [
      "Removing 439 users who gave the same score to all anime.\n"
     ]
    }
   ],
   "source": [
    "#  remove users who rate everything the same \n",
    "user_score_counts = user_rating.groupby('user_id')['score'].nunique()\n",
    "constant_raters = user_score_counts[user_score_counts == 1].index\n",
    "print(f\"Removing {len(constant_raters)} users who gave the same score to all anime.\")\n",
    "user_rating = user_rating[~user_rating['user_id'].isin(constant_raters)]\n"
   ]
  },
  {
   "cell_type": "code",
   "execution_count": 12,
   "id": "f7b22a8f-5c73-4107-b9de-bbf29ff57b32",
   "metadata": {},
   "outputs": [],
   "source": [
    "# Bucketize Ratings\n",
    "def rating_bucket(score):\n",
    "    if score >= 9:\n",
    "        return 'loved'\n",
    "    elif score >= 7:\n",
    "        return 'liked'\n",
    "    else:\n",
    "        return 'meh'\n",
    "user_rating['rating_bucket'] = user_rating['score'].apply(rating_bucket)\n",
    "new_user_rating['rating_bucket'] = new_user_rating['score'].apply(rating_bucket)"
   ]
  },
  {
   "cell_type": "code",
   "execution_count": 13,
   "id": "74590049-5b54-402a-a0c8-0f2db605f521",
   "metadata": {},
   "outputs": [
    {
     "name": "stdout",
     "output_type": "stream",
     "text": [
      "Number of users to keep:7421 and target number of users: 7421\n"
     ]
    }
   ],
   "source": [
    "# Taking only those user which has watched atleast 20 anime as new users\n",
    "\n",
    "num_max_users = 125000 # This is to reduce memory usage\n",
    "new_user_rating = new_user_rating.loc[new_user_rating.user_id <= num_max_users]\n",
    "group_users = new_user_rating.groupby('user_id')['anime_id'].count().reset_index()\n",
    "group_new_users = group_users[(group_users['anime_id'] >= 5) & (group_users['anime_id'] <=20)]\n",
    "\n",
    "# Matching the number of users in standard dataset\n",
    "target_num_users = user_rating['user_id'].nunique()\n",
    "\n",
    "# randomly sample users up to the target number\n",
    "user_to_keep = group_new_users.sample(n=target_num_users, random_state=42)\n",
    "\n",
    "print(f'Number of users to keep:{len(user_to_keep)} and target number of users: {target_num_users}')\n",
    "\n",
    "# Keep only select users\n",
    "new_user_rating = new_user_rating[new_user_rating['user_id'].isin(user_to_keep['user_id'])]\n",
    "new_user_rating.to_csv('./data/new_users_ratings.csv', index=False)"
   ]
  },
  {
   "cell_type": "code",
   "execution_count": 14,
   "id": "3abcdebd-3859-4903-9264-a74de0b25420",
   "metadata": {},
   "outputs": [],
   "source": [
    "# dropping these column to make user rating dataset consistent\n",
    "user_rating.drop(columns=['start_date', 'finish_date'], axis=1, inplace=True)"
   ]
  },
  {
   "cell_type": "markdown",
   "id": "789bdfcd-c32e-47c7-a43d-309005d36da9",
   "metadata": {},
   "source": [
    "## Data Pre-processing"
   ]
  },
  {
   "cell_type": "markdown",
   "id": "610d300d-5c13-4651-acb5-e24e0de1d7ac",
   "metadata": {},
   "source": [
    "#### Checking null values"
   ]
  },
  {
   "cell_type": "code",
   "execution_count": 15,
   "id": "d619f4d7-2fff-41d7-b84a-ffb8357e181d",
   "metadata": {},
   "outputs": [
    {
     "data": {
      "text/plain": [
       "user_id                 0\n",
       "anime_id                0\n",
       "score                   0\n",
       "status                  0\n",
       "num_episodes_watched    0\n",
       "updated_at              0\n",
       "rating_bucket           0\n",
       "dtype: int64"
      ]
     },
     "execution_count": 15,
     "metadata": {},
     "output_type": "execute_result"
    }
   ],
   "source": [
    "user_rating.isnull().sum()"
   ]
  },
  {
   "cell_type": "code",
   "execution_count": 16,
   "id": "b377d88b-58e1-4a61-9efb-97cf183ee7f8",
   "metadata": {},
   "outputs": [
    {
     "data": {
      "text/plain": [
       "user_id          0\n",
       "anime_id         0\n",
       "score            0\n",
       "rating_bucket    0\n",
       "dtype: int64"
      ]
     },
     "execution_count": 16,
     "metadata": {},
     "output_type": "execute_result"
    }
   ],
   "source": [
    "new_user_rating.isnull().sum()"
   ]
  },
  {
   "cell_type": "markdown",
   "id": "6cdd0fda-21ed-405e-a85d-9586496b2533",
   "metadata": {},
   "source": [
    "There is missing value of 748, a score of 0 actually represents a missing rating. On MyAnimeList, users cannot assign a score of 0 unless they choose not to rate the anime."
   ]
  },
  {
   "cell_type": "code",
   "execution_count": 17,
   "id": "7e8349e2-f9ca-4507-977b-1957bf394255",
   "metadata": {},
   "outputs": [],
   "source": [
    "# Remove users who have only given score 0 or does scored in user rating\n",
    "\n",
    "def remove_zero_scoring_users(ratings_df: pd.DataFrame):\n",
    "    users_score_counts = ratings_df.groupby('user_id')['score'].apply(lambda scores: (scores >0).sum())\n",
    "    users_to_remove = users_score_counts[users_score_counts == 0].index.tolist()\n",
    "    print(f\"Removing {len(users_to_remove)} users who have only 0 scores.\")\n",
    "    \n",
    "    cleaned_df = ratings_df[~ratings_df.user_id.isin(users_to_remove)].copy()\n",
    "    \n",
    "    return cleaned_df"
   ]
  },
  {
   "cell_type": "code",
   "execution_count": 18,
   "id": "1fd9eb57-4fb5-4478-83b8-4d9ef95673a5",
   "metadata": {},
   "outputs": [
    {
     "name": "stdout",
     "output_type": "stream",
     "text": [
      "Removing 0 users who have only 0 scores.\n"
     ]
    }
   ],
   "source": [
    "user_rating = remove_zero_scoring_users(user_rating)"
   ]
  },
  {
   "cell_type": "code",
   "execution_count": 19,
   "id": "fd854261-6d3f-4380-b0dd-05dc364379fb",
   "metadata": {},
   "outputs": [],
   "source": [
    "# Remove Shows without \"Completed\" Status in user rating\n",
    "\n",
    "user_rating = user_rating[user_rating['status'] == 'completed']"
   ]
  },
  {
   "cell_type": "code",
   "execution_count": 20,
   "id": "13fb242f-e391-49e8-b739-2adfbb2e03d2",
   "metadata": {},
   "outputs": [
    {
     "name": "stdout",
     "output_type": "stream",
     "text": [
      "<class 'pandas.core.frame.DataFrame'>\n",
      "Index: 2028606 entries, 0 to 2151591\n",
      "Data columns (total 7 columns):\n",
      " #   Column                Dtype              \n",
      "---  ------                -----              \n",
      " 0   user_id               int64              \n",
      " 1   anime_id              int64              \n",
      " 2   score                 int64              \n",
      " 3   status                object             \n",
      " 4   num_episodes_watched  int64              \n",
      " 5   updated_at            datetime64[ns, UTC]\n",
      " 6   rating_bucket         object             \n",
      "dtypes: datetime64[ns, UTC](1), int64(4), object(2)\n",
      "memory usage: 123.8+ MB\n"
     ]
    }
   ],
   "source": [
    "user_rating.info()"
   ]
  },
  {
   "cell_type": "code",
   "execution_count": 21,
   "id": "04ca4f72-926f-44a5-84aa-371936e3f999",
   "metadata": {},
   "outputs": [
    {
     "name": "stdout",
     "output_type": "stream",
     "text": [
      "Removing 1124 users with less than 30 ratings\n"
     ]
    }
   ],
   "source": [
    "# Remove users less than 30 ratings in user rating\n",
    "\n",
    "def user_rating_less_than30(ratings_df: pd.DataFrame):\n",
    "    score_counts = ratings_df.groupby('user_id')['score'].count().reset_index()\n",
    "    users_to_remove = score_counts[score_counts.score < 30].user_id\n",
    "    print(f\"Removing {len(users_to_remove)} users with less than 30 ratings\")\n",
    "    \n",
    "    cleaned_df = ratings_df[~ratings_df.user_id.isin(users_to_remove)].copy()\n",
    "    \n",
    "    return cleaned_df\n",
    "\n",
    "user_rating = user_rating_less_than30(user_rating)"
   ]
  },
  {
   "cell_type": "markdown",
   "id": "bb681111-f12e-47de-80e9-9dd4ab29aef5",
   "metadata": {},
   "source": [
    "## Exploring  the datasets"
   ]
  },
  {
   "cell_type": "code",
   "execution_count": 22,
   "id": "63a0eb28-6329-4c66-a91a-e19176bd9730",
   "metadata": {},
   "outputs": [],
   "source": [
    "# Checking the number of anime watched distribution\n",
    "\n",
    "def get_histogram(num_watched_group):\n",
    "    num_watched_data = {\n",
    "        \"0-20\": (num_watched_group.between(0, 20)).sum(),\n",
    "        \"21-30\": (num_watched_group.between(21, 30)).sum(),\n",
    "        \"31-100\": (num_watched_group.between(31, 100)).sum(),\n",
    "        \"101-250\": (num_watched_group.between(101, 250)).sum(),\n",
    "        \"251-500\": (num_watched_group.between(251, 500)).sum(),\n",
    "        \"501+\": (num_watched_group > 500).sum()\n",
    "    }\n",
    "\n",
    "    # Plot the bar chart\n",
    "    sns.barplot(num_watched_data, palette=\"pastel\")\n",
    "    plt.xlabel('Number of Anime Watched')\n",
    "    plt.ylabel('Number of Users')\n",
    "    plt.title('Distribution of Users by Anime Watched')\n",
    "    \n",
    "    plt.show()"
   ]
  },
  {
   "cell_type": "code",
   "execution_count": 23,
   "id": "49becaf9-1609-497a-ad64-d50ff5f4690f",
   "metadata": {},
   "outputs": [
    {
     "data": {
      "image/png": "[encoded data removed]",
      "text/plain": [
       "<Figure size 640x480 with 1 Axes>"
      ]
     },
     "metadata": {},
     "output_type": "display_data"
    }
   ],
   "source": [
    "# Standard users\n",
    "get_histogram((user_rating.groupby('user_id')['anime_id'].count()))"
   ]
  },
  {
   "cell_type": "markdown",
   "id": "8d220b87-2c02-4509-96bd-b63f6779259e",
   "metadata": {},
   "source": [
    "- Users has mostly watched around 100 to 250 animes which is sufficient user-item interactions to detect patterns."
   ]
  },
  {
   "cell_type": "code",
   "execution_count": 24,
   "id": "ada6a821-b442-4439-8f26-46bb1cdbb8d1",
   "metadata": {},
   "outputs": [
    {
     "data": {
      "image/png": "[encoded data removed]",
      "text/plain": [
       "<Figure size 640x480 with 1 Axes>"
      ]
     },
     "metadata": {},
     "output_type": "display_data"
    }
   ],
   "source": [
    "# New Users\n",
    "get_histogram((new_user_rating.groupby('user_id')['anime_id'].count()))"
   ]
  },
  {
   "cell_type": "code",
   "execution_count": 25,
   "id": "fad69d90-40df-4e03-88c6-8b0c8d64f699",
   "metadata": {},
   "outputs": [
    {
     "data": {
      "text/plain": [
       "<Axes: xlabel='score', ylabel='user_id'>"
      ]
     },
     "execution_count": 25,
     "metadata": {},
     "output_type": "execute_result"
    },
    {
     "data": {
      "image/png": "[encoded data removed]",
      "text/plain": [
       "<Figure size 640x480 with 1 Axes>"
      ]
     },
     "metadata": {},
     "output_type": "display_data"
    }
   ],
   "source": [
    "# Checking the score distribution - user rting\n",
    "sns.barplot(user_rating.groupby('score')['user_id'].count(), palette=\"pastel\")"
   ]
  },
  {
   "cell_type": "markdown",
   "id": "314a9d1d-d19d-4a51-a855-3755e909a536",
   "metadata": {},
   "source": [
    "- Most users rating anime as 8/10 reflects a positive bias, selective engagement, and platform norm"
   ]
  },
  {
   "cell_type": "code",
   "execution_count": 26,
   "id": "b5159c20-815a-4402-aff6-59f33edfa569",
   "metadata": {},
   "outputs": [
    {
     "data": {
      "text/plain": [
       "<Axes: xlabel='score', ylabel='user_id'>"
      ]
     },
     "execution_count": 26,
     "metadata": {},
     "output_type": "execute_result"
    },
    {
     "data": {
      "image/png": "[encoded data removed]",
      "text/plain": [
       "<Figure size 640x480 with 1 Axes>"
      ]
     },
     "metadata": {},
     "output_type": "display_data"
    }
   ],
   "source": [
    "# new user rating\n",
    "sns.barplot(new_user_rating.groupby('score')['user_id'].count(), palette=\"pastel\")"
   ]
  },
  {
   "cell_type": "code",
   "execution_count": 27,
   "id": "d69e1fb7-fc56-4336-a89f-0ee96cede2c0",
   "metadata": {},
   "outputs": [
    {
     "data": {
      "text/html": [
       "<div>\n",
       "<style scoped>\n",
       "    .dataframe tbody tr th:only-of-type {\n",
       "        vertical-align: middle;\n",
       "    }\n",
       "\n",
       "    .dataframe tbody tr th {\n",
       "        vertical-align: top;\n",
       "    }\n",
       "\n",
       "    .dataframe thead th {\n",
       "        text-align: right;\n",
       "    }\n",
       "</style>\n",
       "<table border=\"1\" class=\"dataframe\">\n",
       "  <thead>\n",
       "    <tr style=\"text-align: right;\">\n",
       "      <th></th>\n",
       "      <th>id</th>\n",
       "      <th>title</th>\n",
       "      <th>start_date</th>\n",
       "      <th>end_date</th>\n",
       "      <th>synopsis</th>\n",
       "      <th>score</th>\n",
       "      <th>rank</th>\n",
       "      <th>popularity</th>\n",
       "      <th>num_list_users</th>\n",
       "      <th>num_scoring_users</th>\n",
       "      <th>...</th>\n",
       "      <th>num_episodes</th>\n",
       "      <th>start_season</th>\n",
       "      <th>broadcast_day</th>\n",
       "      <th>broadcast_time</th>\n",
       "      <th>source</th>\n",
       "      <th>rating</th>\n",
       "      <th>studios</th>\n",
       "      <th>meta</th>\n",
       "      <th>ep_bucket</th>\n",
       "      <th>pop_bucket</th>\n",
       "    </tr>\n",
       "  </thead>\n",
       "  <tbody>\n",
       "    <tr>\n",
       "      <th>0</th>\n",
       "      <td>52991</td>\n",
       "      <td>Sousou no Frieren</td>\n",
       "      <td>2023-09-29</td>\n",
       "      <td>2024-03-22</td>\n",
       "      <td>During their decade-long quest to defeat the D...</td>\n",
       "      <td>9.31</td>\n",
       "      <td>1.0</td>\n",
       "      <td>159</td>\n",
       "      <td>1044444</td>\n",
       "      <td>609185</td>\n",
       "      <td>...</td>\n",
       "      <td>28</td>\n",
       "      <td>fall</td>\n",
       "      <td>friday</td>\n",
       "      <td>23:00</td>\n",
       "      <td>manga</td>\n",
       "      <td>pg_13</td>\n",
       "      <td>Madhouse</td>\n",
       "      <td>Adventure,Drama,Fantasy,Shounen Madhouse tv ma...</td>\n",
       "      <td>long</td>\n",
       "      <td>low</td>\n",
       "    </tr>\n",
       "    <tr>\n",
       "      <th>1</th>\n",
       "      <td>5114</td>\n",
       "      <td>Fullmetal Alchemist: Brotherhood</td>\n",
       "      <td>2009-04-05</td>\n",
       "      <td>2010-07-04</td>\n",
       "      <td>After a horrific alchemy experiment goes wrong...</td>\n",
       "      <td>9.10</td>\n",
       "      <td>2.0</td>\n",
       "      <td>3</td>\n",
       "      <td>3486975</td>\n",
       "      <td>2198350</td>\n",
       "      <td>...</td>\n",
       "      <td>64</td>\n",
       "      <td>spring</td>\n",
       "      <td>sunday</td>\n",
       "      <td>17:00</td>\n",
       "      <td>manga</td>\n",
       "      <td>r</td>\n",
       "      <td>Bones</td>\n",
       "      <td>Action,Adventure,Drama,Fantasy,Military,Shoune...</td>\n",
       "      <td>long</td>\n",
       "      <td>low</td>\n",
       "    </tr>\n",
       "    <tr>\n",
       "      <th>2</th>\n",
       "      <td>9253</td>\n",
       "      <td>Steins;Gate</td>\n",
       "      <td>2011-04-06</td>\n",
       "      <td>2011-09-14</td>\n",
       "      <td>Eccentric scientist Rintarou Okabe has a never...</td>\n",
       "      <td>9.07</td>\n",
       "      <td>3.0</td>\n",
       "      <td>14</td>\n",
       "      <td>2671014</td>\n",
       "      <td>1451230</td>\n",
       "      <td>...</td>\n",
       "      <td>24</td>\n",
       "      <td>spring</td>\n",
       "      <td>wednesday</td>\n",
       "      <td>02:05</td>\n",
       "      <td>visual_novel</td>\n",
       "      <td>pg_13</td>\n",
       "      <td>White Fox</td>\n",
       "      <td>Drama,Psychological,Sci-Fi,Suspense,Time Trave...</td>\n",
       "      <td>1-cour</td>\n",
       "      <td>low</td>\n",
       "    </tr>\n",
       "    <tr>\n",
       "      <th>3</th>\n",
       "      <td>38524</td>\n",
       "      <td>Shingeki no Kyojin Season 3 Part 2</td>\n",
       "      <td>2019-04-29</td>\n",
       "      <td>2019-07-01</td>\n",
       "      <td>Seeking to restore humanity's diminishing hope...</td>\n",
       "      <td>9.05</td>\n",
       "      <td>4.0</td>\n",
       "      <td>21</td>\n",
       "      <td>2411646</td>\n",
       "      <td>1673369</td>\n",
       "      <td>...</td>\n",
       "      <td>10</td>\n",
       "      <td>spring</td>\n",
       "      <td>monday</td>\n",
       "      <td>00:10</td>\n",
       "      <td>manga</td>\n",
       "      <td>r</td>\n",
       "      <td>Wit Studio</td>\n",
       "      <td>Action,Drama,Gore,Military,Shounen,Survival,Su...</td>\n",
       "      <td>short</td>\n",
       "      <td>low</td>\n",
       "    </tr>\n",
       "    <tr>\n",
       "      <th>4</th>\n",
       "      <td>60022</td>\n",
       "      <td>One Piece Fan Letter</td>\n",
       "      <td>2024-10-20</td>\n",
       "      <td>2024-10-20</td>\n",
       "      <td>Although the golden age of piracy is about to ...</td>\n",
       "      <td>9.05</td>\n",
       "      <td>5.0</td>\n",
       "      <td>2322</td>\n",
       "      <td>93088</td>\n",
       "      <td>70227</td>\n",
       "      <td>...</td>\n",
       "      <td>1</td>\n",
       "      <td>fall</td>\n",
       "      <td></td>\n",
       "      <td>NaN</td>\n",
       "      <td>light_novel</td>\n",
       "      <td>pg_13</td>\n",
       "      <td>Toei Animation</td>\n",
       "      <td>Action,Adventure,Fantasy,Shounen Toei Animatio...</td>\n",
       "      <td>short</td>\n",
       "      <td>low</td>\n",
       "    </tr>\n",
       "  </tbody>\n",
       "</table>\n",
       "<p>5 rows × 23 columns</p>\n",
       "</div>"
      ],
      "text/plain": [
       "      id                               title  start_date    end_date  \\\n",
       "0  52991                   Sousou no Frieren  2023-09-29  2024-03-22   \n",
       "1   5114    Fullmetal Alchemist: Brotherhood  2009-04-05  2010-07-04   \n",
       "2   9253                         Steins;Gate  2011-04-06  2011-09-14   \n",
       "3  38524  Shingeki no Kyojin Season 3 Part 2  2019-04-29  2019-07-01   \n",
       "4  60022                One Piece Fan Letter  2024-10-20  2024-10-20   \n",
       "\n",
       "                                            synopsis  score  rank  popularity  \\\n",
       "0  During their decade-long quest to defeat the D...   9.31   1.0         159   \n",
       "1  After a horrific alchemy experiment goes wrong...   9.10   2.0           3   \n",
       "2  Eccentric scientist Rintarou Okabe has a never...   9.07   3.0          14   \n",
       "3  Seeking to restore humanity's diminishing hope...   9.05   4.0          21   \n",
       "4  Although the golden age of piracy is about to ...   9.05   5.0        2322   \n",
       "\n",
       "   num_list_users  num_scoring_users  ... num_episodes start_season  \\\n",
       "0         1044444             609185  ...           28         fall   \n",
       "1         3486975            2198350  ...           64       spring   \n",
       "2         2671014            1451230  ...           24       spring   \n",
       "3         2411646            1673369  ...           10       spring   \n",
       "4           93088              70227  ...            1         fall   \n",
       "\n",
       "  broadcast_day  broadcast_time        source rating         studios  \\\n",
       "0        friday           23:00         manga  pg_13        Madhouse   \n",
       "1        sunday           17:00         manga      r           Bones   \n",
       "2     wednesday           02:05  visual_novel  pg_13       White Fox   \n",
       "3        monday           00:10         manga      r      Wit Studio   \n",
       "4                           NaN   light_novel  pg_13  Toei Animation   \n",
       "\n",
       "                                                meta ep_bucket pop_bucket  \n",
       "0  Adventure,Drama,Fantasy,Shounen Madhouse tv ma...      long        low  \n",
       "1  Action,Adventure,Drama,Fantasy,Military,Shoune...      long        low  \n",
       "2  Drama,Psychological,Sci-Fi,Suspense,Time Trave...    1-cour        low  \n",
       "3  Action,Drama,Gore,Military,Shounen,Survival,Su...     short        low  \n",
       "4  Action,Adventure,Fantasy,Shounen Toei Animatio...     short        low  \n",
       "\n",
       "[5 rows x 23 columns]"
      ]
     },
     "execution_count": 27,
     "metadata": {},
     "output_type": "execute_result"
    }
   ],
   "source": [
    "anime_df.head(5)"
   ]
  },
  {
   "cell_type": "markdown",
   "id": "e9d69d38-8a06-4549-9843-f9e6dfa06d2e",
   "metadata": {},
   "source": [
    "## Creating Train and Test Dataset"
   ]
  },
  {
   "cell_type": "code",
   "execution_count": 28,
   "id": "1d8d6fec-c6d3-47ef-891d-9af0198fbac6",
   "metadata": {},
   "outputs": [],
   "source": [
    "split_ratio = 0.8    # 80% of data in training dataset and 20% in test dataset\n",
    "\n",
    "def train_test_split(ratings_df: pd.DataFrame, split_ratio: float, should_sort = True):\n",
    "    train_user_ratings = []\n",
    "    test_user_ratings= []\n",
    "    \n",
    "    for user_id in ratings_df['user_id'].unique():\n",
    "        # sort user by date the rating was last updated\n",
    "        user_ratings = ratings_df[ratings_df.user_id == user_id]\n",
    "        \n",
    "        if should_sort:\n",
    "            user_ratings = user_ratings.sort_values(by=['updated_at'])\n",
    "        \n",
    "        if len(user_ratings) < 2:\n",
    "            print(\"ERROR: Not enough ratings to put user in both test and train dataset\")\n",
    "        \n",
    "        elif len(user_ratings) == 2:\n",
    "            train_user_ratings.append(user_ratings[user_ratings.index == 0])\n",
    "            test_user_ratings.append(user_ratings[user_ratings.index == 1])\n",
    "        else:\n",
    "            # determine what index to split\n",
    "            split_index = int(math.floor(len(user_ratings)*split_ratio))\n",
    "            train_user_ratings.append(user_ratings.iloc[:split_index])\n",
    "            test_user_ratings.append(user_ratings.iloc[split_index:])\n",
    "    \n",
    "    # merged the users data\n",
    "    train_df = pd.concat(train_user_ratings, ignore_index=True)\n",
    "    test_df = pd.concat(test_user_ratings, ignore_index=True) \n",
    " \n",
    "    # Correctly enforce data types\n",
    "    for col in ['user_id', 'anime_id', 'score']:\n",
    "        train_df[col] = train_df[col].astype('int32')\n",
    "        test_df[col] = test_df[col].astype('int32')\n",
    "\n",
    "    return train_df, test_df\n",
    "       "
   ]
  },
  {
   "cell_type": "code",
   "execution_count": 29,
   "id": "48bad80b-840f-4cf8-b2a2-375efd025202",
   "metadata": {},
   "outputs": [],
   "source": [
    "# splitting user rating\n",
    "user_train_df, user_test_df = train_test_split(user_rating, split_ratio)\n",
    "user_new_train_df, user_new_test_df = train_test_split(new_user_rating, split_ratio, should_sort=False)"
   ]
  },
  {
   "cell_type": "code",
   "execution_count": 30,
   "id": "b8df7e3b-b84b-46c7-87d1-41c7c8bd2e47",
   "metadata": {},
   "outputs": [
    {
     "name": "stdout",
     "output_type": "stream",
     "text": [
      "Standard users train data shape:  (1609194, 7)\n",
      "Standard users test data shape:  (405407, 7)\n",
      "New users train data shape:  (67452, 4)\n",
      "New users test data shape:  (20321, 4)\n"
     ]
    }
   ],
   "source": [
    "print(\"Standard users train data shape: \", user_train_df.shape)\n",
    "print(\"Standard users test data shape: \", user_test_df.shape)\n",
    "print(\"New users train data shape: \", user_new_train_df.shape)\n",
    "print(\"New users test data shape: \", user_new_test_df.shape)"
   ]
  },
  {
   "cell_type": "code",
   "execution_count": 31,
   "id": "07a2e2a7-61e9-49e7-9d72-ed5724bc26b7",
   "metadata": {},
   "outputs": [],
   "source": [
    "user_train_df.to_csv('data/user_ratings_train.csv')\n",
    "user_test_df.to_csv('data/user_ratings_test.csv')\n",
    "user_new_train_df.to_csv('data/new_user_ratings_train.csv')\n",
    "user_new_test_df.to_csv('data/new_user_ratings_test.csv')"
   ]
  },
  {
   "cell_type": "code",
   "execution_count": 32,
   "id": "5878d16b-4895-436b-b56f-1f45c4a24905",
   "metadata": {},
   "outputs": [],
   "source": [
    "anime_df.to_csv('data/anime_df.csv')"
   ]
  },
  {
   "cell_type": "markdown",
   "id": "cfef4014-2afe-4a8a-89c9-48edfc0d0026",
   "metadata": {},
   "source": [
    "Standard users train data shape:  (1894794, 6)\n",
    "Standard users test data shape:  (477187, 6)\n",
    "New users train data shape:  (70956, 3)\n",
    "New users test data shape:  (21380, 3)"
   ]
  },
  {
   "cell_type": "code",
   "execution_count": null,
   "id": "85957c42-3f7d-47f6-99e5-5eea2aea930c",
   "metadata": {},
   "outputs": [],
   "source": []
  },
  {
   "cell_type": "code",
   "execution_count": null,
   "id": "01be9749-e97a-402d-a1ba-8d0033c55196",
   "metadata": {},
   "outputs": [],
   "source": []
  }
 ],
 "metadata": {
  "kernelspec": {
   "display_name": "Python 3 (ipykernel)",
   "language": "python",
   "name": "python3"
  },
  "language_info": {
   "codemirror_mode": {
    "name": "ipython",
    "version": 3
   },
   "file_extension": ".py",
   "mimetype": "text/x-python",
   "name": "python",
   "nbconvert_exporter": "python",
   "pygments_lexer": "ipython3",
   "version": "3.12.4"
  }
 },
 "nbformat": 4,
 "nbformat_minor": 5
}
